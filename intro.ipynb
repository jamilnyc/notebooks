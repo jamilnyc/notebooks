{
 "cells": [
  {
   "cell_type": "markdown",
   "id": "cognitive-nurse",
   "metadata": {},
   "source": [
    "# Example Jupyter Notebook\n",
    "\n",
    "This is a `Markdown` cell. The contents of this cell are formated when you run them. Run the cell by either clicking the `▶ Run` button above or by hitting `Shift+Enter`. \n",
    "\n",
    "For more information on Mark Down syntax, see [here](https://www.markdownguide.org/basic-syntax/)."
   ]
  },
  {
   "cell_type": "code",
   "execution_count": 3,
   "id": "prime-pottery",
   "metadata": {},
   "outputs": [
    {
     "name": "stdout",
     "output_type": "stream",
     "text": [
      "Hello, World!\n"
     ]
    }
   ],
   "source": [
    "# This is a code cell\n",
    "# The contents of this cell are executed as Python code\n",
    "# Any output appears directly below\n",
    "x = 42\n",
    "print('Hello, World!')"
   ]
  },
  {
   "cell_type": "code",
   "execution_count": 4,
   "id": "protected-singer",
   "metadata": {},
   "outputs": [
    {
     "data": {
      "text/plain": [
       "42"
      ]
     },
     "execution_count": 4,
     "metadata": {},
     "output_type": "execute_result"
    }
   ],
   "source": [
    "# You can evaluate a variable by just making a statement\n",
    "# This is similar to the REPL tool, when just using `python` on the command line\n",
    "x"
   ]
  },
  {
   "cell_type": "code",
   "execution_count": 1,
   "id": "utility-world",
   "metadata": {},
   "outputs": [],
   "source": [
    "# To make interactive plots, uncomment this\n",
    "# %matplotlib notebook\n",
    "\n",
    "# Import the numpy and matplotlib modules to be used below\n",
    "# This assumes you have installed the libraries already\n",
    "import numpy as np\n",
    "import matplotlib.pyplot as plt\n",
    "\n",
    "# When opening a notebook, all the cells need to be re-executed in the same order to produce the same results"
   ]
  },
  {
   "cell_type": "markdown",
   "id": "adult-fabric",
   "metadata": {},
   "source": [
    "You can execute all cells sequentially with the Cell > Run All menu item."
   ]
  },
  {
   "cell_type": "markdown",
   "id": "pharmaceutical-pharmaceutical",
   "metadata": {},
   "source": [
    "## Simple Plots\n",
    "\n",
    "The `randint()` function returns an array of integers from a uniform distribution. Displaying this in a histogram, we should get a relatively flat graph with nearly equal numbers in each bucket. Recall, that a histogram shows the frequency of occurances.\n",
    "\n",
    "All the parameters for the `hist()` function can be found [here](https://matplotlib.org/stable/api/_as_gen/matplotlib.pyplot.hist.html#matplotlib.pyplot.hist)."
   ]
  },
  {
   "cell_type": "code",
   "execution_count": 14,
   "id": "gorgeous-landing",
   "metadata": {
    "scrolled": true
   },
   "outputs": [
    {
     "data": {
      "image/png": "[encoded data removed]",
      "text/plain": [
       "<Figure size 432x288 with 1 Axes>"
      ]
     },
     "metadata": {
      "needs_background": "light"
     },
     "output_type": "display_data"
    }
   ],
   "source": [
    "# Create an array of random integers from [0, 100)\n",
    "num_samples = 1000000\n",
    "my_ints = np.random.randint(0, 100, num_samples)\n",
    "\n",
    "# Plot a histogram, with 25 equal-width bins (buckets)\n",
    "plot = plt.hist(my_ints, bins=25)"
   ]
  },
  {
   "cell_type": "markdown",
   "id": "enhanced-halifax",
   "metadata": {},
   "source": [
    "We can also graph a normal distribution of integers."
   ]
  },
  {
   "cell_type": "code",
   "execution_count": 5,
   "id": "funny-estate",
   "metadata": {},
   "outputs": [
    {
     "data": {
      "image/png": "[encoded data removed]",
      "text/plain": [
       "<Figure size 432x288 with 1 Axes>"
      ]
     },
     "metadata": {
      "needs_background": "light"
     },
     "output_type": "display_data"
    }
   ],
   "source": [
    "num_samples = 1000000\n",
    "mean = 0\n",
    "stddev = 1\n",
    "my_ints = stddev * np.random.randn(num_samples) + mean\n",
    "\n",
    "# The greater the bins, the higher the \"resolution\" of the histogram\n",
    "plot = plt.hist(my_ints, bins=100, color='pink')"
   ]
  },
  {
   "cell_type": "markdown",
   "id": "every-individual",
   "metadata": {},
   "source": [
    "Next, we have an example of a triangular distribution."
   ]
  },
  {
   "cell_type": "code",
   "execution_count": 19,
   "id": "emotional-pregnancy",
   "metadata": {},
   "outputs": [
    {
     "data": {
      "image/png": "[encoded data removed]",
      "text/plain": [
       "<Figure size 432x288 with 1 Axes>"
      ]
     },
     "metadata": {
      "needs_background": "light"
     },
     "output_type": "display_data"
    }
   ],
   "source": [
    "# Starts at -3, peaks at 0 and ends at 8\n",
    "my_ints = np.random.triangular(-3, 0, 8, 100000)\n",
    "h = plt.hist(my_ints, bins=50, color='lime')"
   ]
  }
 ],
 "metadata": {
  "kernelspec": {
   "display_name": "Python 3",
   "language": "python",
   "name": "python3"
  },
  "language_info": {
   "codemirror_mode": {
    "name": "ipython",
    "version": 3
   },
   "file_extension": ".py",
   "mimetype": "text/x-python",
   "name": "python",
   "nbconvert_exporter": "python",
   "pygments_lexer": "ipython3",
   "version": "3.8.2"
  }
 },
 "nbformat": 4,
 "nbformat_minor": 5
}
