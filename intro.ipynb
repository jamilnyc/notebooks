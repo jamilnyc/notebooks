{
 "cells": [
  {
   "cell_type": "markdown",
   "id": "cognitive-nurse",
   "metadata": {},
   "source": [
    "# Example Jupyter Notebook\n",
    "\n",
    "This is a `Markdown` cell. The contents of this cell are formated when you run them. Run the cell by either clicking the `▶ Run` button above or by hitting `Shift+Enter`. \n",
    "\n",
    "Markdown allows you to do the typical formatting you'd expect like _italicizing_ or **applying boldface**. For more information on Mark Down syntax, see [here](https://www.markdownguide.org/basic-syntax/).\n",
    "\n",
    "When starting with a new notebook, it's useful to clear all the existing code output, read the cells and execute them one at a time, in order.\n",
    "\n",
    "To clear all the cells, click `Cell > All Output > Clear` from the main menu bar. Additionally, you can execute all cells in order by clicking `Cell > Run All`."
   ]
  },
  {
   "cell_type": "code",
   "execution_count": 5,
   "id": "prime-pottery",
   "metadata": {},
   "outputs": [
    {
     "name": "stdout",
     "output_type": "stream",
     "text": [
      "Hello, World!\n"
     ]
    }
   ],
   "source": [
    "# This is a code cell\n",
    "# The contents of this cell are executed as Python code\n",
    "# Any output appears directly below\n",
    "x = 42\n",
    "print('Hello, World!')"
   ]
  },
  {
   "cell_type": "code",
   "execution_count": 2,
   "id": "protected-singer",
   "metadata": {},
   "outputs": [
    {
     "data": {
      "text/plain": [
       "42"
      ]
     },
     "execution_count": 2,
     "metadata": {},
     "output_type": "execute_result"
    }
   ],
   "source": [
    "# You can evaluate a variable by just making a statement\n",
    "# This is similar to the REPL tool, when just using `python` on the command line\n",
    "x"
   ]
  },
  {
   "cell_type": "markdown",
   "id": "elect-beaver",
   "metadata": {},
   "source": [
    "## Viewing Documentation\n",
    "\n",
    "Suffixing a function with the question mark `?` will bring up the help documentation. You can close this after you are done reading by clicking the X in the corner.\n",
    "\n",
    "In the example below, we import the `json` package and pull up the documentatation for the `dumps` function."
   ]
  },
  {
   "cell_type": "code",
   "execution_count": 2,
   "id": "processed-musician",
   "metadata": {},
   "outputs": [],
   "source": [
    "import json\n",
    "\n",
    "json.dumps?"
   ]
  },
  {
   "cell_type": "markdown",
   "id": "collected-regression",
   "metadata": {},
   "source": [
    "## Magic Commands\n",
    "\n",
    "Magic commands, are just what they sound like. They are commands that are not part of core Python, but are added in by the interpretter to add \"magical\" functionality. They are usually prefixed with the percent character `%`.\n",
    "\n",
    "In the example below, we run the magic command `%ls` to view the current directory contents."
   ]
  },
  {
   "cell_type": "code",
   "execution_count": 3,
   "id": "efficient-basement",
   "metadata": {},
   "outputs": [
    {
     "name": "stdout",
     "output_type": "stream",
     "text": [
      "README.md                      dataframes.ipynb\r\n",
      "\u001b[34mdata\u001b[m\u001b[m/                          intro.ipynb\r\n",
      "dataframe_visualization.ipynb\r\n"
     ]
    }
   ],
   "source": [
    "%ls"
   ]
  },
  {
   "cell_type": "markdown",
   "id": "referenced-clear",
   "metadata": {},
   "source": [
    "Another useful magic command is the `%who` function that can list currently defined variables.\n",
    "\n",
    "In addition, the `%whos` command lists those same variables with additional information like their type and values."
   ]
  },
  {
   "cell_type": "code",
   "execution_count": 11,
   "id": "thermal-singing",
   "metadata": {},
   "outputs": [
    {
     "name": "stdout",
     "output_type": "stream",
     "text": [
      "Currently defined variables:\n",
      "json\t x\t \n",
      "\n",
      "Currently defined variables and their values:\n",
      "Variable   Type      Data/Info\n",
      "------------------------------\n",
      "json       module    <module 'json' from '/Lib<...>hon3.8/json/__init__.py'>\n",
      "x          int       42\n"
     ]
    }
   ],
   "source": [
    "print('Currently defined variables:')\n",
    "%who\n",
    "\n",
    "print('\\nCurrently defined variables and their values:')\n",
    "%whos"
   ]
  },
  {
   "cell_type": "markdown",
   "id": "frozen-concentration",
   "metadata": {},
   "source": [
    "Consult [the IPython documentation](https://ipython.readthedocs.io/en/stable/interactive/magics.html) for more useful magic commands."
   ]
  },
  {
   "cell_type": "markdown",
   "id": "pharmaceutical-pharmaceutical",
   "metadata": {},
   "source": [
    "## Simple Plots\n",
    "\n",
    "A notebook can contain visual graphs of data using libraries like Seaborn or Matplotlib. The examples below illustrate some simple plots with Matplot lib. In order to be able to import the libraries `numpy` and `matplotlib` you must have them installed in your Python distribution.\n",
    "\n",
    "Most notebooks contain multiple code cells, that often build on each other or at least reference variables/data from other cells. That is why, before running a cell, you should make sure all the previous cells have been executed in order."
   ]
  },
  {
   "cell_type": "code",
   "execution_count": null,
   "id": "vocational-simulation",
   "metadata": {},
   "outputs": [],
   "source": [
    "# To make interactive plots, uncomment this\n",
    "# %matplotlib notebook\n",
    "\n",
    "import numpy as np\n",
    "import matplotlib.pyplot as plt"
   ]
  },
  {
   "cell_type": "markdown",
   "id": "romantic-nigeria",
   "metadata": {},
   "source": [
    "The `randint()` function returns an array of integers from a uniform distribution. Displaying this in a histogram, we should get a relatively flat graph with nearly equal numbers in each bucket. Recall, that a histogram shows the frequency of occurances.\n",
    "\n",
    "All the parameters for the `hist()` function can be found [here](https://matplotlib.org/stable/api/_as_gen/matplotlib.pyplot.hist.html#matplotlib.pyplot.hist)."
   ]
  },
  {
   "cell_type": "code",
   "execution_count": 4,
   "id": "gorgeous-landing",
   "metadata": {
    "scrolled": true
   },
   "outputs": [
    {
     "data": {
      "image/png": "[encoded data removed]",
      "text/plain": [
       "<Figure size 432x288 with 1 Axes>"
      ]
     },
     "metadata": {
      "needs_background": "light"
     },
     "output_type": "display_data"
    }
   ],
   "source": [
    "# Create an array of random integers from [0, 100)\n",
    "num_samples = 1000000\n",
    "my_ints = np.random.randint(0, 100, num_samples)\n",
    "\n",
    "# Plot a histogram, with 25 equal-width bins (buckets)\n",
    "plot = plt.hist(my_ints, bins=25)"
   ]
  },
  {
   "cell_type": "markdown",
   "id": "enhanced-halifax",
   "metadata": {},
   "source": [
    "We can also graph a normal distribution of integers."
   ]
  },
  {
   "cell_type": "code",
   "execution_count": 5,
   "id": "funny-estate",
   "metadata": {},
   "outputs": [
    {
     "data": {
      "image/png": "[encoded data removed]",
      "text/plain": [
       "<Figure size 432x288 with 1 Axes>"
      ]
     },
     "metadata": {
      "needs_background": "light"
     },
     "output_type": "display_data"
    }
   ],
   "source": [
    "num_samples = 1000000\n",
    "mean = 0\n",
    "stddev = 1\n",
    "my_ints = stddev * np.random.randn(num_samples) + mean\n",
    "\n",
    "# The greater the bins, the higher the \"resolution\" of the histogram\n",
    "plot = plt.hist(my_ints, bins=100, color='pink')"
   ]
  },
  {
   "cell_type": "markdown",
   "id": "every-individual",
   "metadata": {},
   "source": [
    "Next, we have an example of a triangular distribution."
   ]
  },
  {
   "cell_type": "code",
   "execution_count": 6,
   "id": "emotional-pregnancy",
   "metadata": {},
   "outputs": [
    {
     "data": {
      "image/png": "[encoded data removed]",
      "text/plain": [
       "<Figure size 432x288 with 1 Axes>"
      ]
     },
     "metadata": {
      "needs_background": "light"
     },
     "output_type": "display_data"
    }
   ],
   "source": [
    "# Starts at -3, peaks at 0 and ends at 8\n",
    "my_ints = np.random.triangular(-3, 0, 8, 100000)\n",
    "h = plt.hist(my_ints, bins=50, color='lime')"
   ]
  }
 ],
 "metadata": {
  "kernelspec": {
   "display_name": "Python 3",
   "language": "python",
   "name": "python3"
  },
  "language_info": {
   "codemirror_mode": {
    "name": "ipython",
    "version": 3
   },
   "file_extension": ".py",
   "mimetype": "text/x-python",
   "name": "python",
   "nbconvert_exporter": "python",
   "pygments_lexer": "ipython3",
   "version": "3.8.2"
  }
 },
 "nbformat": 4,
 "nbformat_minor": 5
}
