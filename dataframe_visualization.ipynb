{
 "cells": [
  {
   "cell_type": "markdown",
   "id": "brutal-report",
   "metadata": {},
   "source": [
    "# Visualizing Data with DataFrames\n",
    "\n",
    "Being able to visualize data is important for recognizing patterns and making data-driven decisions. The [Seaborn](https://seaborn.pydata.org/introduction.html) package is built on top of Matplotlib and used for visualizing data, especially tabular data like the kind in `DataFrame` objects. \n",
    "\n",
    "\n",
    "## Setup\n",
    "\n",
    "In the cell below, we import the relevant libraries and create an initial `DataFrame`. \n",
    "\n",
    "To render the graphs in this notebook, we'll [set the Matplotlib backend to be `inline`](https://stackoverflow.com/a/43028034/1577649) so that figures appear directly below the cells."
   ]
  },
  {
   "cell_type": "code",
   "execution_count": 12,
   "id": "talented-marker",
   "metadata": {},
   "outputs": [
    {
     "data": {
      "text/html": [
       "<div>\n",
       "<style scoped>\n",
       "    .dataframe tbody tr th:only-of-type {\n",
       "        vertical-align: middle;\n",
       "    }\n",
       "\n",
       "    .dataframe tbody tr th {\n",
       "        vertical-align: top;\n",
       "    }\n",
       "\n",
       "    .dataframe thead th {\n",
       "        text-align: right;\n",
       "    }\n",
       "</style>\n",
       "<table border=\"1\" class=\"dataframe\">\n",
       "  <thead>\n",
       "    <tr style=\"text-align: right;\">\n",
       "      <th></th>\n",
       "      <th>Unnamed: 0</th>\n",
       "      <th>Date</th>\n",
       "      <th>Max.TemperatureF</th>\n",
       "      <th>Mean.TemperatureF</th>\n",
       "      <th>Min.TemperatureF</th>\n",
       "      <th>Max.Dew.PointF</th>\n",
       "      <th>MeanDew.PointF</th>\n",
       "      <th>Min.DewpointF</th>\n",
       "      <th>Max.Humidity</th>\n",
       "      <th>Mean.Humidity</th>\n",
       "      <th>...</th>\n",
       "      <th>Min.VisibilityMiles</th>\n",
       "      <th>Max.Wind.SpeedMPH</th>\n",
       "      <th>Mean.Wind.SpeedMPH</th>\n",
       "      <th>Max.Gust.SpeedMPH</th>\n",
       "      <th>PrecipitationIn</th>\n",
       "      <th>CloudCover</th>\n",
       "      <th>Events</th>\n",
       "      <th>WindDirDegrees.br...</th>\n",
       "      <th>city</th>\n",
       "      <th>season</th>\n",
       "    </tr>\n",
       "  </thead>\n",
       "  <tbody>\n",
       "    <tr>\n",
       "      <th>0</th>\n",
       "      <td>1</td>\n",
       "      <td>1948-07-01</td>\n",
       "      <td>84</td>\n",
       "      <td>78.0</td>\n",
       "      <td>72</td>\n",
       "      <td>71</td>\n",
       "      <td>65</td>\n",
       "      <td>58</td>\n",
       "      <td>93</td>\n",
       "      <td>65</td>\n",
       "      <td>...</td>\n",
       "      <td>2.0</td>\n",
       "      <td>16</td>\n",
       "      <td>8</td>\n",
       "      <td>NaN</td>\n",
       "      <td>0.00</td>\n",
       "      <td>0.0</td>\n",
       "      <td>Fog</td>\n",
       "      <td>264&lt;br /&gt;</td>\n",
       "      <td>New York City (USA)</td>\n",
       "      <td>Summer</td>\n",
       "    </tr>\n",
       "    <tr>\n",
       "      <th>1</th>\n",
       "      <td>2</td>\n",
       "      <td>1948-07-02</td>\n",
       "      <td>82</td>\n",
       "      <td>72.0</td>\n",
       "      <td>63</td>\n",
       "      <td>62</td>\n",
       "      <td>53</td>\n",
       "      <td>49</td>\n",
       "      <td>76</td>\n",
       "      <td>51</td>\n",
       "      <td>...</td>\n",
       "      <td>10.0</td>\n",
       "      <td>16</td>\n",
       "      <td>10</td>\n",
       "      <td>NaN</td>\n",
       "      <td>0.00</td>\n",
       "      <td>0.0</td>\n",
       "      <td>NaN</td>\n",
       "      <td>315&lt;br /&gt;</td>\n",
       "      <td>New York City (USA)</td>\n",
       "      <td>Summer</td>\n",
       "    </tr>\n",
       "    <tr>\n",
       "      <th>2</th>\n",
       "      <td>3</td>\n",
       "      <td>1948-07-03</td>\n",
       "      <td>78</td>\n",
       "      <td>71.0</td>\n",
       "      <td>64</td>\n",
       "      <td>66</td>\n",
       "      <td>58</td>\n",
       "      <td>53</td>\n",
       "      <td>84</td>\n",
       "      <td>62</td>\n",
       "      <td>...</td>\n",
       "      <td>5.0</td>\n",
       "      <td>14</td>\n",
       "      <td>6</td>\n",
       "      <td>NaN</td>\n",
       "      <td>0.00</td>\n",
       "      <td>0.0</td>\n",
       "      <td>NaN</td>\n",
       "      <td>203&lt;br /&gt;</td>\n",
       "      <td>New York City (USA)</td>\n",
       "      <td>Summer</td>\n",
       "    </tr>\n",
       "  </tbody>\n",
       "</table>\n",
       "<p>3 rows × 26 columns</p>\n",
       "</div>"
      ],
      "text/plain": [
       "   Unnamed: 0        Date  Max.TemperatureF  Mean.TemperatureF  \\\n",
       "0           1  1948-07-01                84               78.0   \n",
       "1           2  1948-07-02                82               72.0   \n",
       "2           3  1948-07-03                78               71.0   \n",
       "\n",
       "   Min.TemperatureF  Max.Dew.PointF  MeanDew.PointF  Min.DewpointF  \\\n",
       "0                72              71              65             58   \n",
       "1                63              62              53             49   \n",
       "2                64              66              58             53   \n",
       "\n",
       "   Max.Humidity  Mean.Humidity  ...  Min.VisibilityMiles  Max.Wind.SpeedMPH  \\\n",
       "0            93             65  ...                  2.0                 16   \n",
       "1            76             51  ...                 10.0                 16   \n",
       "2            84             62  ...                  5.0                 14   \n",
       "\n",
       "   Mean.Wind.SpeedMPH  Max.Gust.SpeedMPH  PrecipitationIn  CloudCover  Events  \\\n",
       "0                   8                NaN             0.00         0.0     Fog   \n",
       "1                  10                NaN             0.00         0.0     NaN   \n",
       "2                   6                NaN             0.00         0.0     NaN   \n",
       "\n",
       "   WindDirDegrees.br...                 city  season  \n",
       "0             264<br />  New York City (USA)  Summer  \n",
       "1             315<br />  New York City (USA)  Summer  \n",
       "2             203<br />  New York City (USA)  Summer  \n",
       "\n",
       "[3 rows x 26 columns]"
      ]
     },
     "execution_count": 12,
     "metadata": {},
     "output_type": "execute_result"
    }
   ],
   "source": [
    "import pandas as pd\n",
    "import seaborn as sns\n",
    "import matplotlib.pyplot as plt\n",
    "%matplotlib inline\n",
    "\n",
    "# Read data from a local CSV file into a DataFrame object\n",
    "df = pd.read_csv('data/weather/nyc.csv')\n",
    "df.head(3)"
   ]
  },
  {
   "cell_type": "markdown",
   "id": "changed-toronto",
   "metadata": {},
   "source": [
    "Let's clean up the `Date` field in the `DataFrame` object so that we can use it more effectively in our visualizations. It is currently a string (`object` data type) and we want to convert it to an actual date object.\n",
    "\n",
    "Note how after conversion, the `Date` column's type is now `datetime64[ns]`."
   ]
  },
  {
   "cell_type": "code",
   "execution_count": 14,
   "id": "technical-baseball",
   "metadata": {},
   "outputs": [
    {
     "name": "stdout",
     "output_type": "stream",
     "text": [
      "Type before conversion: object\n",
      "Type after conversion: datetime64[ns]\n"
     ]
    }
   ],
   "source": [
    "print('Type before conversion:', df.dtypes['Date'])\n",
    "\n",
    "df['Date'] = pd.to_datetime(df['Date'], format=\"%Y-%m-%d\")\n",
    "print('Type after conversion:', df.dtypes['Date'])"
   ]
  },
  {
   "cell_type": "markdown",
   "id": "scheduled-seating",
   "metadata": {},
   "source": [
    "## Line Graph\n",
    "\n",
    "Let's start with a simple line graph that maps the mean temperature over time. To keep the graph readable, we'll only use the last 2000 data points, by creating a new truncated `DataFrame` with the `tail()` method.\n",
    "\n",
    "The [`seaborn.relplot()`](https://seaborn.pydata.org/generated/seaborn.relplot.html#seaborn.relplot) function returns a [`FacetGrid`](https://seaborn.pydata.org/generated/seaborn.FacetGrid.html#seaborn.FacetGrid) object. The `fig` property on this object is in turn a [`matplotlib.figure.Figure`](https://matplotlib.org/3.3.4/api/_as_gen/matplotlib.figure.Figure.html) object. \n",
    "\n",
    "Using the [`autofmt_xdate()`](https://matplotlib.org/3.3.4/api/_as_gen/matplotlib.figure.Figure.html#matplotlib.figure.Figure.autofmt_xdate) method, we can format the x-axis to be more readable. This is especially helpful, when there are many labels crowding around each other."
   ]
  },
  {
   "cell_type": "code",
   "execution_count": 28,
   "id": "subtle-sherman",
   "metadata": {},
   "outputs": [
    {
     "data": {
      "image/png": "[encoded data removed]",
      "text/plain": [
       "<Figure size 360x360 with 1 Axes>"
      ]
     },
     "metadata": {
      "needs_background": "light"
     },
     "output_type": "display_data"
    }
   ],
   "source": [
    "# Create a line plot\n",
    "g = sns.relplot(x=\"Date\", y=\"Mean.TemperatureF\", kind=\"line\", data=df.tail(2000))\n",
    "\n",
    "# Format the date labels on the x-axis\n",
    "g.fig.autofmt_xdate(rotation=320, ha='left')"
   ]
  },
  {
   "cell_type": "markdown",
   "id": "neither-memphis",
   "metadata": {},
   "source": [
    "As expected from weather data, the average temperature fluctuates each day, but is periodic over the years, following the seasons."
   ]
  }
 ],
 "metadata": {
  "kernelspec": {
   "display_name": "Python 3",
   "language": "python",
   "name": "python3"
  },
  "language_info": {
   "codemirror_mode": {
    "name": "ipython",
    "version": 3
   },
   "file_extension": ".py",
   "mimetype": "text/x-python",
   "name": "python",
   "nbconvert_exporter": "python",
   "pygments_lexer": "ipython3",
   "version": "3.8.2"
  }
 },
 "nbformat": 4,
 "nbformat_minor": 5
}
